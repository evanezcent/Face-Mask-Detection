{
 "cells": [
  {
   "cell_type": "code",
   "execution_count": null,
   "metadata": {},
   "outputs": [],
   "source": [
    "import tensorflow as tf\n",
    "from tensorflow.keras.models import Model, load_model\n",
    "import matplotlib.pyplot as plt\n",
    "plt.style.use(\"seaborn\")\n",
    "import numpy as np\n",
    "from IPython.display import display\n",
    "import glob\n",
    "import os\n",
    "import cv2"
   ]
  },
  {
   "cell_type": "code",
   "execution_count": null,
   "metadata": {},
   "outputs": [],
   "source": [
    "my_model = load_model('D:\\PROGRAMING\\Python\\Face Mask/model.h5')"
   ]
  },
  {
   "cell_type": "code",
   "execution_count": null,
   "metadata": {},
   "outputs": [],
   "source": [
    "face_cascade = cv2.CascadeClassifier('D:\\PROGRAMING\\Python\\Face Mask/cascades/data/haarcascade_frontalface_alt2.xml')\n",
    "eye_cascade = cv2.CascadeClassifier('D:\\PROGRAMING\\Python\\Face Mask/cascades/data/haarcascade_eye.xml')\n",
    "smile_cascade = cv2.CascadeClassifier('D:\\PROGRAMING\\Python\\Face Mask/cascades/data/haarcascade_smile.xml')\n",
    "recognizer = cv2.face.LBPHFaceRecognizer_create()\n",
    "# recognizer.read(\"trainner.yml\")"
   ]
  },
  {
   "cell_type": "code",
   "execution_count": null,
   "metadata": {},
   "outputs": [],
   "source": [
    "cam = cv2.VideoCapture(0)\n",
    "\n",
    "while(True):\n",
    "    # Open Camera\n",
    "    ret, frame = cam.read()\n",
    "    \n",
    "    # Try detecting Face\n",
    "    # TODO : Face not detected when using masker\n",
    "    gray = cv2.cvtColor(frame, cv2.COLOR_BGR2GRAY)\n",
    "    faces = face_cascade.detectMultiScale(gray, scaleFactor = 1.5, minNeighbors = 5)\n",
    "    \n",
    "    for (x, y, w, h) in faces :\n",
    "        # Get the frame\n",
    "        roi_color = frame[y:y+224, x:x+224]\n",
    "        \n",
    "        # Reshape into 224x224\n",
    "        img = np.array(roi_color, dtype='float')\n",
    "        img = img.reshape(1, 224, 224, 3)\n",
    "        \n",
    "        # PREDICT\n",
    "        prediksi = my_model.predict(img)\n",
    "        idx = np.argmax(prediksi)\n",
    "        \n",
    "        status = \"Wearing Mask\"\n",
    "        if (idx == 0):\n",
    "            status = \"Not Wearing Mask\"\n",
    "            \n",
    "        print(idx)\n",
    "        print(status)\n",
    "            \n",
    "        font = cv2.FONT_HERSHEY_SIMPLEX\n",
    "        color = (255, 199, 99)\n",
    "        stroke = 2 \n",
    "        cv2.putText(frame, status, (x+10,y+10), font, 1, color, stroke, cv2.LINE_AA)\n",
    "\n",
    "        color = (255, 0, 0)\n",
    "        stroke = 2\n",
    "        end_cord_x = x + w\n",
    "        end_cord_y = y + h\n",
    "        cv2.rectangle(frame, (x, y), (end_cord_x, end_cord_y), color, stroke)   \n",
    "\n",
    "    # Showing frame\n",
    "    cv2.imshow('frame', frame)\n",
    "    \n",
    "    # Turn of camera \n",
    "    if cv2.waitKey(2) & 0xFF == ord('q'):\n",
    "        cam.realease()\n",
    "        cv2.destroyAllWindows()"
   ]
  }
 ],
 "metadata": {
  "kernelspec": {
   "display_name": "Python 3",
   "language": "python",
   "name": "python3"
  },
  "language_info": {
   "codemirror_mode": {
    "name": "ipython",
    "version": 3
   },
   "file_extension": ".py",
   "mimetype": "text/x-python",
   "name": "python",
   "nbconvert_exporter": "python",
   "pygments_lexer": "ipython3",
   "version": "3.7.1"
  }
 },
 "nbformat": 4,
 "nbformat_minor": 4
}
